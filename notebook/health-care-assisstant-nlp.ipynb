{
 "cells": [
  {
   "cell_type": "code",
   "execution_count": null,
   "metadata": {
    "execution": {
     "iopub.execute_input": "2025-04-10T17:24:42.023876Z",
     "iopub.status.busy": "2025-04-10T17:24:42.023690Z",
     "iopub.status.idle": "2025-04-10T17:24:58.296397Z",
     "shell.execute_reply": "2025-04-10T17:24:58.295332Z",
     "shell.execute_reply.started": "2025-04-10T17:24:42.023859Z"
    },
    "trusted": true
   },
   "outputs": [],
   "source": [
    "!pip uninstall -y langchain langchain-core langchain-community langchain-text-splitters\n",
    "!pip install langchain==0.3.21 langchain-core==0.3.20 langchain-community==0.3.20 langchain-text-splitters==0.3.7\n",
    "!pip install transformers torch sentence-transformers rank-bm25 beautifulsoup4 \n",
    "!pip install biopython faiss-cpu nltk pymed"
   ]
  },
  {
   "cell_type": "code",
   "execution_count": null,
   "metadata": {
    "execution": {
     "iopub.execute_input": "2025-04-10T17:24:58.297710Z",
     "iopub.status.busy": "2025-04-10T17:24:58.297470Z",
     "iopub.status.idle": "2025-04-10T17:25:08.372001Z",
     "shell.execute_reply": "2025-04-10T17:25:08.371049Z",
     "shell.execute_reply.started": "2025-04-10T17:24:58.297684Z"
    },
    "trusted": true
   },
   "outputs": [],
   "source": [
    "!pip uninstall -y langchain langchain-core langchain-community langchain-text-splitters\n",
    "!pip install --upgrade langchain langchain-community\n"
   ]
  },
  {
   "cell_type": "code",
   "execution_count": null,
   "metadata": {
    "execution": {
     "iopub.execute_input": "2025-04-10T17:25:08.373434Z",
     "iopub.status.busy": "2025-04-10T17:25:08.373040Z",
     "iopub.status.idle": "2025-04-10T17:25:12.045983Z",
     "shell.execute_reply": "2025-04-10T17:25:12.044735Z",
     "shell.execute_reply.started": "2025-04-10T17:25:08.373374Z"
    },
    "trusted": true
   },
   "outputs": [],
   "source": [
    "!pip install -q faiss-cpu nltk pymed spacy scikit-learn huggingface_hub"
   ]
  },
  {
   "cell_type": "code",
   "execution_count": null,
   "metadata": {
    "execution": {
     "iopub.execute_input": "2025-04-10T17:26:46.033486Z",
     "iopub.status.busy": "2025-04-10T17:26:46.033148Z",
     "iopub.status.idle": "2025-04-10T17:27:10.978932Z",
     "shell.execute_reply": "2025-04-10T17:27:10.977939Z",
     "shell.execute_reply.started": "2025-04-10T17:26:46.033458Z"
    },
    "trusted": true
   },
   "outputs": [],
   "source": [
    "import os\n",
    "import numpy as np\n",
    "import faiss\n",
    "import nltk\n",
    "import spacy\n",
    "import requests\n",
    "from typing import List\n",
    "from pymed import PubMed\n",
    "from Bio import Entrez\n",
    "from rank_bm25 import BM25Okapi\n",
    "from nltk.tokenize import word_tokenize\n",
    "from nltk.corpus import stopwords\n",
    "from nltk.stem import PorterStemmer\n",
    "from langchain.embeddings import HuggingFaceEmbeddings\n",
    "from transformers import AutoTokenizer, AutoModelForCausalLM, pipeline\n",
    "from huggingface_hub import login"
   ]
  },
  {
   "cell_type": "code",
   "execution_count": null,
   "metadata": {
    "execution": {
     "iopub.execute_input": "2025-04-10T17:27:10.980686Z",
     "iopub.status.busy": "2025-04-10T17:27:10.980016Z",
     "iopub.status.idle": "2025-04-10T17:27:19.641635Z",
     "shell.execute_reply": "2025-04-10T17:27:19.640678Z",
     "shell.execute_reply.started": "2025-04-10T17:27:10.980653Z"
    },
    "trusted": true
   },
   "outputs": [],
   "source": [
    "\n",
    "nltk.download('punkt')\n",
    "nltk.download('stopwords')\n",
    "os.system(\"python -m spacy download en_core_web_sm\")\n"
   ]
  },
  {
   "cell_type": "code",
   "execution_count": null,
   "metadata": {
    "execution": {
     "iopub.execute_input": "2025-04-10T17:27:36.033394Z",
     "iopub.status.busy": "2025-04-10T17:27:36.033101Z",
     "iopub.status.idle": "2025-04-10T17:27:36.037562Z",
     "shell.execute_reply": "2025-04-10T17:27:36.036522Z",
     "shell.execute_reply.started": "2025-04-10T17:27:36.033373Z"
    },
    "trusted": true
   },
   "outputs": [],
   "source": [
    "Entrez.email = \"khushi00452@gmail.com\"\n",
    "pubmed = PubMed(tool=\"HealthAI\", email=\"khushi00452@gmail.com\")\n"
   ]
  },
  {
   "cell_type": "code",
   "execution_count": null,
   "metadata": {
    "execution": {
     "iopub.execute_input": "2025-04-10T17:27:38.514819Z",
     "iopub.status.busy": "2025-04-10T17:27:38.514383Z",
     "iopub.status.idle": "2025-04-10T17:27:38.520397Z",
     "shell.execute_reply": "2025-04-10T17:27:38.519487Z",
     "shell.execute_reply.started": "2025-04-10T17:27:38.514781Z"
    },
    "trusted": true
   },
   "outputs": [],
   "source": [
    "MENTAL_KEYWORDS = {\n",
    "    \"depress\", \"anxiet\", \"stress\", \"lonely\", \"overwhelm\", \n",
    "    \"panic\", \"burnout\", \"dread\", \"hopeless\", \"empty\",\n",
    "    \"bipolar\", \"ptsd\", \"ocd\", \"paranoia\", \"insomnia\",\n",
    "    \"eating disorder\", \"self harm\", \"suicid\", \n",
    "    \"therapy\", \"counsel\", \"psycholog\", \"psychiatr\",\n",
    "    \"not okay\", \"can't cope\", \"breaking down\", \"mental health\"\n",
    "}\n"
   ]
  },
  {
   "cell_type": "code",
   "execution_count": null,
   "metadata": {
    "execution": {
     "iopub.execute_input": "2025-04-10T17:27:41.775197Z",
     "iopub.status.busy": "2025-04-10T17:27:41.774745Z",
     "iopub.status.idle": "2025-04-10T17:27:41.780584Z",
     "shell.execute_reply": "2025-04-10T17:27:41.779517Z",
     "shell.execute_reply.started": "2025-04-10T17:27:41.775146Z"
    },
    "trusted": true
   },
   "outputs": [],
   "source": [
    "CRISIS_KEYWORDS = {\n",
    "    \"suicid\", \"kill myself\", \"end my life\", \n",
    "    \"want to die\", \"self harm\", \"cutting\"\n",
    "}\n",
    "CRISIS_RESPONSE = \"\"\"\n",
    "I'm really sorry you're feeling this way. You're not alone, and help is available. \n",
    "Please contact a crisis hotline immediately:\n",
    "- National Suicide Prevention Lifeline: 988 (US)\n",
    "- Crisis Text Line: Text HOME to 741741 (US)\n",
    "- International Association for Suicide Prevention: https://www.iasp.info/resources/Crisis_Centres/\n",
    "Your life matters, and there are people who want to support you.\n",
    "\"\"\"\n"
   ]
  },
  {
   "cell_type": "code",
   "execution_count": null,
   "metadata": {
    "execution": {
     "iopub.execute_input": "2025-04-10T17:27:44.036611Z",
     "iopub.status.busy": "2025-04-10T17:27:44.036162Z",
     "iopub.status.idle": "2025-04-10T17:27:49.821186Z",
     "shell.execute_reply": "2025-04-10T17:27:49.820499Z",
     "shell.execute_reply.started": "2025-04-10T17:27:44.036571Z"
    },
    "trusted": true
   },
   "outputs": [],
   "source": [
    "embedding_model = HuggingFaceEmbeddings(model_name=\"sentence-transformers/all-MiniLM-L6-v2\")"
   ]
  },
  {
   "cell_type": "code",
   "execution_count": null,
   "metadata": {
    "execution": {
     "iopub.execute_input": "2025-04-10T17:27:57.018231Z",
     "iopub.status.busy": "2025-04-10T17:27:57.017557Z",
     "iopub.status.idle": "2025-04-10T17:27:57.807515Z",
     "shell.execute_reply": "2025-04-10T17:27:57.806765Z",
     "shell.execute_reply.started": "2025-04-10T17:27:57.018202Z"
    },
    "trusted": true
   },
   "outputs": [],
   "source": [
    "nlp = spacy.load(\"en_core_web_sm\")\n",
    "stemmer = PorterStemmer()\n",
    "stop_words = set(stopwords.words(\"english\"))\n",
    "\n",
    "def preprocess_text(text: str) -> str:\n",
    "    \"\"\"Lowercase, remove stopwords, and apply stemming.\"\"\"\n",
    "    tokens = word_tokenize(text.lower())\n",
    "    filtered_tokens = [stemmer.stem(word) for word in tokens if word.isalnum() and word not in stop_words]\n",
    "    return \" \".join(filtered_tokens)\n",
    "\n",
    "def extract_keywords(text: str) -> List[str]:\n",
    "    \"\"\"Extract important keywords from the query.\"\"\"\n",
    "    doc = nlp(text)\n",
    "    return [token.text for token in doc if token.pos_ in [\"NOUN\", \"ADJ\"] and token.text.lower() not in stop_words]\n"
   ]
  },
  {
   "cell_type": "code",
   "execution_count": null,
   "metadata": {
    "execution": {
     "iopub.execute_input": "2025-04-10T17:28:01.566491Z",
     "iopub.status.busy": "2025-04-10T17:28:01.566168Z",
     "iopub.status.idle": "2025-04-10T17:28:01.571187Z",
     "shell.execute_reply": "2025-04-10T17:28:01.570481Z",
     "shell.execute_reply.started": "2025-04-10T17:28:01.566466Z"
    },
    "trusted": true
   },
   "outputs": [],
   "source": [
    "def fetch_pubmed_articles(query, max_results=5):\n",
    "    \"\"\"Fetch relevant articles from PubMed.\"\"\"\n",
    "    base_url = \"https://eutils.ncbi.nlm.nih.gov/entrez/eutils/esearch.fcgi\"\n",
    "    params = {\"db\": \"pubmed\", \"term\": query, \"retmode\": \"json\", \"retmax\": max_results}\n",
    "    response = requests.get(base_url, params=params)\n",
    "    \n",
    "    if response.status_code != 200:\n",
    "        return []\n",
    "    \n",
    "    result_ids = response.json().get(\"esearchresult\", {}).get(\"idlist\", [])\n",
    "    return [f\"PubMed Article ID: {article_id}\" for article_id in result_ids]"
   ]
  },
  {
   "cell_type": "code",
   "execution_count": null,
   "metadata": {
    "execution": {
     "iopub.execute_input": "2025-04-10T17:28:14.385563Z",
     "iopub.status.busy": "2025-04-10T17:28:14.385224Z",
     "iopub.status.idle": "2025-04-10T17:28:14.392356Z",
     "shell.execute_reply": "2025-04-10T17:28:14.391486Z",
     "shell.execute_reply.started": "2025-04-10T17:28:14.385538Z"
    },
    "trusted": true
   },
   "outputs": [],
   "source": [
    "faiss_index = None\n",
    "article_texts = []\n",
    "\n",
    "from langchain.embeddings import HuggingFaceEmbeddings\n",
    "\n",
    "def build_faiss_index(articles):\n",
    "    \"\"\"Build FAISS index and store globally.\"\"\"\n",
    "    global faiss_index, article_texts\n",
    "\n",
    "    if not articles:\n",
    "        faiss_index = None\n",
    "        article_texts = []\n",
    "        return\n",
    "\n",
    "    \n",
    "    embeddings = np.array(embedding_model.embed_documents(articles), dtype=np.float32)\n",
    "\n",
    "    faiss_index = faiss.IndexFlatL2(embeddings.shape[1])\n",
    "    faiss_index.add(embeddings)\n",
    "    article_texts = articles\n",
    "\n",
    "def retrieve_relevant_docs(query):\n",
    "    \"\"\"Use only the query input and global index/article data.\"\"\"\n",
    "    if faiss_index is None or not article_texts:\n",
    "        return [\"No relevant information found.\"]\n",
    "\n",
    "    \n",
    "    query_embedding = np.array(embedding_model.embed_query(query), dtype=np.float32).reshape(1, -1)\n",
    "    _, result_ids = faiss_index.search(query_embedding, k=1)\n",
    "\n",
    "    return [article_texts[i] for i in result_ids[0] if i < len(article_texts)] or [\"No relevant information found.\"]\n"
   ]
  },
  {
   "cell_type": "code",
   "execution_count": null,
   "metadata": {
    "execution": {
     "iopub.execute_input": "2025-04-10T17:28:23.784480Z",
     "iopub.status.busy": "2025-04-10T17:28:23.784097Z",
     "iopub.status.idle": "2025-04-10T17:28:23.789359Z",
     "shell.execute_reply": "2025-04-10T17:28:23.788269Z",
     "shell.execute_reply.started": "2025-04-10T17:28:23.784441Z"
    },
    "trusted": true
   },
   "outputs": [],
   "source": [
    "def route_query(query: str) -> str:\n",
    "    \"\"\"Routes queries to Crisis, Mental Health, or Medical RAG.\"\"\"\n",
    "    query_lower = query.lower()\n",
    "\n",
    "    if any(keyword in query_lower for keyword in CRISIS_KEYWORDS):\n",
    "        return \"crisis\"\n",
    "    if any(keyword in query_lower for keyword in MENTAL_KEYWORDS):\n",
    "        return \"mental\"\n",
    "    return \"medical\"\n"
   ]
  },
  {
   "cell_type": "code",
   "execution_count": null,
   "metadata": {
    "execution": {
     "iopub.execute_input": "2025-04-10T17:28:29.261329Z",
     "iopub.status.busy": "2025-04-10T17:28:29.260976Z",
     "iopub.status.idle": "2025-04-10T17:30:39.058459Z",
     "shell.execute_reply": "2025-04-10T17:30:39.056526Z",
     "shell.execute_reply.started": "2025-04-10T17:28:29.261306Z"
    },
    "trusted": true
   },
   "outputs": [],
   "source": [
    "\n",
    "login(token=os.getenv(\"HUGGINGFACE_TOKEN\"))\n",
    "\n",
    "tokenizer = AutoTokenizer.from_pretrained(\"mistralai/Mistral-7B-Instruct-v0.1\")\n",
    "model = AutoModelForCausalLM.from_pretrained(\"mistralai/Mistral-7B-Instruct-v0.1\")\n"
   ]
  },
  {
   "cell_type": "code",
   "execution_count": null,
   "metadata": {
    "execution": {
     "iopub.execute_input": "2025-04-10T17:39:14.228568Z",
     "iopub.status.busy": "2025-04-10T17:39:14.228232Z",
     "iopub.status.idle": "2025-04-10T17:39:14.233784Z",
     "shell.execute_reply": "2025-04-10T17:39:14.232920Z",
     "shell.execute_reply.started": "2025-04-10T17:39:14.228542Z"
    },
    "trusted": true
   },
   "outputs": [],
   "source": [
    "def generate_response(query: str) -> str:\n",
    "    \"\"\"Generate a response to the user's health query.\"\"\"\n",
    "    query_type = route_query(query)\n",
    "\n",
    "   \n",
    "    if query_type == \"crisis\":\n",
    "        return CRISIS_RESPONSE\n",
    "\n",
    "   \n",
    "    relevant_articles = fetch_pubmed_articles(query)[:3] \n",
    "    build_faiss_index(relevant_articles)\n",
    "    retrieved_docs = retrieve_relevant_docs(query)\n",
    "\n",
    "   \n",
    "    context = \"\\n\".join(retrieved_docs) if retrieved_docs else \"No relevant medical information found.\"\n",
    "\n",
    "   \n",
    "    prompt = f\"\"\"You are a healthcare assistant. Provide accurate, compassionate medical information based on the context below.\n",
    "\n",
    "User Query: {query}\n",
    "\n",
    "Medical Context:\n",
    "{context}\n",
    "\n",
    "Response:\"\"\"\n",
    "\n",
    "    inputs = tokenizer(prompt, return_tensors=\"pt\")\n",
    "    outputs = model.generate(**inputs, max_new_tokens=200)\n",
    "    return tokenizer.decode(outputs[0], skip_special_tokens=True)\n"
   ]
  },
  {
   "cell_type": "code",
   "execution_count": null,
   "metadata": {
    "execution": {
     "iopub.execute_input": "2025-04-10T17:39:18.319657Z",
     "iopub.status.busy": "2025-04-10T17:39:18.319277Z",
     "iopub.status.idle": "2025-04-10T17:43:22.791251Z",
     "shell.execute_reply": "2025-04-10T17:43:22.790369Z",
     "shell.execute_reply.started": "2025-04-10T17:39:18.319614Z"
    },
    "trusted": true
   },
   "outputs": [],
   "source": [
    "\n",
    "\n",
    "queries = [\n",
    "    \"I feel really hopeless and anxious.\",\n",
    "    ]\n",
    "\n",
    "for query in queries:\n",
    "    response = generate_response(query)\n",
    "    print(f\"**Query:** {query}\\n**Response:** {response}\\n{'-'*50}\")\n",
    "    \n"
   ]
  },
  {
   "cell_type": "code",
   "execution_count": null,
   "metadata": {
    "execution": {
     "iopub.execute_input": "2025-04-10T17:54:56.161942Z",
     "iopub.status.busy": "2025-04-10T17:54:56.161626Z",
     "iopub.status.idle": "2025-04-10T17:59:23.218048Z",
     "shell.execute_reply": "2025-04-10T17:59:23.217155Z",
     "shell.execute_reply.started": "2025-04-10T17:54:56.161918Z"
    },
    "trusted": true
   },
   "outputs": [],
   "source": [
    "\n",
    "queries = \"What are the symptoms of pneumonia?\",\n",
    "response = generate_response(query)\n",
    "print(f\"**Query:** {query}\\n**Response:** {response}\\n{'-'*50}\")\n",
    "    \n"
   ]
  },
  {
   "cell_type": "code",
   "execution_count": null,
   "metadata": {
    "execution": {
     "iopub.execute_input": "2025-04-10T17:59:23.225453Z",
     "iopub.status.busy": "2025-04-10T17:59:23.225194Z",
     "iopub.status.idle": "2025-04-10T17:59:23.242754Z",
     "shell.execute_reply": "2025-04-10T17:59:23.242003Z",
     "shell.execute_reply.started": "2025-04-10T17:59:23.225433Z"
    },
    "trusted": true
   },
   "outputs": [],
   "source": [
    "queries = [\n",
    "    \n",
    "    \"I want to end my life.\"\n",
    "]\n",
    " \n",
    "for query in queries:\n",
    "    response = generate_response(query)\n",
    "    print(f\"**Query:** {query}\\n**Response:** {response}\\n{'-'*50}\")\n",
    "    \n"
   ]
  }
 ],
 "metadata": {
  "kaggle": {
   "accelerator": "none",
   "dataSources": [],
   "dockerImageVersionId": 30919,
   "isGpuEnabled": false,
   "isInternetEnabled": true,
   "language": "python",
   "sourceType": "notebook"
  },
  "kernelspec": {
   "display_name": "Python 3",
   "language": "python",
   "name": "python3"
  },
  "language_info": {
   "codemirror_mode": {
    "name": "ipython",
    "version": 3
   },
   "file_extension": ".py",
   "mimetype": "text/x-python",
   "name": "python",
   "nbconvert_exporter": "python",
   "pygments_lexer": "ipython3",
   "version": "3.10.12"
  }
 },
 "nbformat": 4,
 "nbformat_minor": 4
}
